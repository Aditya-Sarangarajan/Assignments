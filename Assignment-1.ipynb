{
 "cells": [
  {
   "cell_type": "code",
   "execution_count": 6,
   "metadata": {},
   "outputs": [
    {
     "name": "stdout",
     "output_type": "stream",
     "text": [
      "   A  B  C  D\n",
      "a  7  9  3  3\n",
      "b  8  9  7  4\n",
      "c  3  8  9  9\n",
      "d  5  3  6  5\n",
      "   Random Value 1  Random Value 2  Random Value 3  Random Value 4\n",
      "a               7               9               3               3\n",
      "b               8               9               7               4\n",
      "c               3               8               9               9\n",
      "d               5               3               6               5\n",
      "       Random Value 1  Random Value 2  Random Value 3  Random Value 4\n",
      "count        4.000000        4.000000            4.00        4.000000\n",
      "mean         5.750000        7.250000            6.25        5.250000\n",
      "std          2.217356        2.872281            2.50        2.629956\n",
      "min          3.000000        3.000000            3.00        3.000000\n",
      "25%          4.500000        6.750000            5.25        3.750000\n",
      "50%          6.000000        8.500000            6.50        4.500000\n",
      "75%          7.250000        9.000000            7.50        6.000000\n",
      "max          8.000000        9.000000            9.00        9.000000\n"
     ]
    },
    {
     "data": {
      "text/html": [
       "<div>\n",
       "<style scoped>\n",
       "    .dataframe tbody tr th:only-of-type {\n",
       "        vertical-align: middle;\n",
       "    }\n",
       "\n",
       "    .dataframe tbody tr th {\n",
       "        vertical-align: top;\n",
       "    }\n",
       "\n",
       "    .dataframe thead th {\n",
       "        text-align: right;\n",
       "    }\n",
       "</style>\n",
       "<table border=\"1\" class=\"dataframe\">\n",
       "  <thead>\n",
       "    <tr style=\"text-align: right;\">\n",
       "      <th></th>\n",
       "      <th>Random Value 2</th>\n",
       "      <th>Random Value 3</th>\n",
       "    </tr>\n",
       "  </thead>\n",
       "  <tbody>\n",
       "    <tr>\n",
       "      <th>a</th>\n",
       "      <td>9</td>\n",
       "      <td>3</td>\n",
       "    </tr>\n",
       "    <tr>\n",
       "      <th>b</th>\n",
       "      <td>9</td>\n",
       "      <td>7</td>\n",
       "    </tr>\n",
       "    <tr>\n",
       "      <th>c</th>\n",
       "      <td>8</td>\n",
       "      <td>9</td>\n",
       "    </tr>\n",
       "    <tr>\n",
       "      <th>d</th>\n",
       "      <td>3</td>\n",
       "      <td>6</td>\n",
       "    </tr>\n",
       "  </tbody>\n",
       "</table>\n",
       "</div>"
      ],
      "text/plain": [
       "   Random Value 2  Random Value 3\n",
       "a               9               3\n",
       "b               9               7\n",
       "c               8               9\n",
       "d               3               6"
      ]
     },
     "execution_count": 6,
     "metadata": {},
     "output_type": "execute_result"
    }
   ],
   "source": [
    "import pandas as pd\n",
    "import numpy as np\n",
    "arr=np.random.randint(low=2,high=10,size=(4,4))\n",
    "df=pd.DataFrame(arr,columns=[\"A\",\"B\",\"C\",\"D\"],index=[\"a\",\"b\",\"c\",\"d\"])\n",
    "print(df)\n",
    "df.rename(columns = {'A':'Random Value 1', 'B':'Random Value 2',\n",
    "                              'C':'Random Value 3', 'D':'Random Value 4'}, inplace = True)\n",
    "print(df)\n",
    "stats=df.describe(include='all')\n",
    "print(stats)\n",
    "df.isnull()\n",
    "datatypes=df.dtypes\n",
    "datatypes\n",
    "df.iloc[:,[1,2]]\n",
    "df.loc[:,['Random Value 2','Random Value 3']]"
   ]
  },
  {
   "cell_type": "code",
   "execution_count": null,
   "metadata": {},
   "outputs": [],
   "source": []
  }
 ],
 "metadata": {
  "kernelspec": {
   "display_name": "Python 3",
   "language": "python",
   "name": "python3"
  },
  "language_info": {
   "codemirror_mode": {
    "name": "ipython",
    "version": 3
   },
   "file_extension": ".py",
   "mimetype": "text/x-python",
   "name": "python",
   "nbconvert_exporter": "python",
   "pygments_lexer": "ipython3",
   "version": "3.8.3"
  }
 },
 "nbformat": 4,
 "nbformat_minor": 4
}
